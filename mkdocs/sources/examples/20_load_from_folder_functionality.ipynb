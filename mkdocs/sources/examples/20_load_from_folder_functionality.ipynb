{
 "cells": [
  {
   "cell_type": "markdown",
   "id": "436ada0d",
   "metadata": {},
   "source": [
    "In this notebook I want to illustrate how one can use our `[...]FromFolder` functionalities along with the `[...]ChunkPreProcessors` in those cases where the dataset is too bit to fit in memory.\n",
    "\n",
    "These functionalities in the library have been designed for the following scenarop\n",
    "\n",
    "### Scenario\n",
    "\n",
    "We have a tabular dataset combined with images and text and either some, or all these datasets do not fit in memory. Note that the tabular dataset **MUST ALWAYS** be present as it is considered the rerefence. This is, if we have an image dataset, the tabular dataset must contain a column that points to the image file names as stored in disk. Similarly, if we have a text dataset, then the tabular dataset must contain a column with the texts themselves or a the file names of the text files as stored in disk. \n",
    "\n",
    "If you only have text and/or images and not a tabular component, I would suggest using other libraries (such as hugginface probably). \n",
    "\n",
    "Within this scenario, they are two possible scenarios that we will cover here: \n",
    "\n",
    "1. The tabular data itsel fits in memory and is only the images that do not: in this case you could use the '*standard*' `Preprocessors` in the library and off you go, move directly to the `[...]FromFolder` functionalities\n",
    "\n",
    "2. The tabular data is also very large and does not fit in memory, so we have to process it in chuncks. For this second case I have created the so called `Chunk[...]Preprocessor` (Wide, Tab and Text). \n",
    "\n",
    "Note that at the moment **ONLY csv** format is allowed for the tabular file. More formats will be supported in the future.\n",
    "\n",
    "Let's see a complete example to illustrate how each of these cases would be addressed with the new functionalities in the library. For this example we will use a sample of the airbnb dataset\n",
    "\n",
    "The airbnb dataset, which you could get from [here](http://insideairbnb.com/get-the-data.html), is too big to be included in our datasets module (when including images). Therefore, what I did was, go there, download it, and use the download_images.py script to get the images and the airbnb_data_processing.py to process the data. I did this ages ago and I believe the format of the dataset might be different now. Nonetheless, I will show samples of the dataset as we go through so you can extrapolate the content of this notebook to your particular problem. \n",
    "\n",
    "In the future we will find better datasets🙂. Finally, note that here we are only using a small sample to illustrate the use, so PLEASE ignore the results, just focus on usage. "
   ]
  },
  {
   "cell_type": "code",
   "execution_count": 1,
   "id": "aa3e9949",
   "metadata": {},
   "outputs": [],
   "source": [
    "import numpy as np\n",
    "import torch\n",
    "import pandas as pd\n",
    "from torch.utils.data import DataLoader\n",
    "\n",
    "from pytorch_widedeep.models import TabMlp, Vision, BasicRNN, WideDeep\n",
    "from pytorch_widedeep.training import TrainerFromFolder\n",
    "from pytorch_widedeep.callbacks import EarlyStopping, ModelCheckpoint\n",
    "from pytorch_widedeep.preprocessing import (\n",
    "    TabPreprocessor,\n",
    "    TextPreprocessor,\n",
    "    ImagePreprocessor,\n",
    "    ChunkTabPreprocessor,\n",
    "    ChunkTextPreprocessor,\n",
    ")\n",
    "from pytorch_widedeep.load_from_folder import (\n",
    "    TabFromFolder,\n",
    "    TextFromFolder,\n",
    "    ImageFromFolder,\n",
    "    WideDeepDatasetFromFolder,\n",
    ")"
   ]
  },
  {
   "cell_type": "code",
   "execution_count": 2,
   "id": "55341e9e",
   "metadata": {},
   "outputs": [
    {
     "data": {
      "text/html": [
       "<div>\n",
       "<style scoped>\n",
       "    .dataframe tbody tr th:only-of-type {\n",
       "        vertical-align: middle;\n",
       "    }\n",
       "\n",
       "    .dataframe tbody tr th {\n",
       "        vertical-align: top;\n",
       "    }\n",
       "\n",
       "    .dataframe thead th {\n",
       "        text-align: right;\n",
       "    }\n",
       "</style>\n",
       "<table border=\"1\" class=\"dataframe\">\n",
       "  <thead>\n",
       "    <tr style=\"text-align: right;\">\n",
       "      <th></th>\n",
       "      <th>id</th>\n",
       "      <th>host_id</th>\n",
       "      <th>description</th>\n",
       "      <th>host_listings_count</th>\n",
       "      <th>host_identity_verified</th>\n",
       "      <th>neighbourhood_cleansed</th>\n",
       "      <th>latitude</th>\n",
       "      <th>longitude</th>\n",
       "      <th>is_location_exact</th>\n",
       "      <th>property_type</th>\n",
       "      <th>...</th>\n",
       "      <th>amenity_wide_entrance</th>\n",
       "      <th>amenity_wide_entrance_for_guests</th>\n",
       "      <th>amenity_wide_entryway</th>\n",
       "      <th>amenity_wide_hallways</th>\n",
       "      <th>amenity_wifi</th>\n",
       "      <th>amenity_window_guards</th>\n",
       "      <th>amenity_wine_cooler</th>\n",
       "      <th>security_deposit</th>\n",
       "      <th>extra_people</th>\n",
       "      <th>yield</th>\n",
       "    </tr>\n",
       "  </thead>\n",
       "  <tbody>\n",
       "    <tr>\n",
       "      <th>111</th>\n",
       "      <td>97583.jpg</td>\n",
       "      <td>516216</td>\n",
       "      <td>Very peaceful Edwardian house with beautiful f...</td>\n",
       "      <td>3.0</td>\n",
       "      <td>t</td>\n",
       "      <td>Haringey</td>\n",
       "      <td>51.60796</td>\n",
       "      <td>-0.12551</td>\n",
       "      <td>f</td>\n",
       "      <td>house</td>\n",
       "      <td>...</td>\n",
       "      <td>0</td>\n",
       "      <td>0</td>\n",
       "      <td>0</td>\n",
       "      <td>0</td>\n",
       "      <td>1</td>\n",
       "      <td>0</td>\n",
       "      <td>0</td>\n",
       "      <td>100.0</td>\n",
       "      <td>0.0</td>\n",
       "      <td>57.82</td>\n",
       "    </tr>\n",
       "    <tr>\n",
       "      <th>110</th>\n",
       "      <td>97506.jpg</td>\n",
       "      <td>497537</td>\n",
       "      <td>Hi, we want our guests to have a great time wh...</td>\n",
       "      <td>1.0</td>\n",
       "      <td>t</td>\n",
       "      <td>Lambeth</td>\n",
       "      <td>51.42875</td>\n",
       "      <td>-0.12056</td>\n",
       "      <td>t</td>\n",
       "      <td>apartment</td>\n",
       "      <td>...</td>\n",
       "      <td>0</td>\n",
       "      <td>0</td>\n",
       "      <td>0</td>\n",
       "      <td>0</td>\n",
       "      <td>1</td>\n",
       "      <td>0</td>\n",
       "      <td>0</td>\n",
       "      <td>0.0</td>\n",
       "      <td>20.0</td>\n",
       "      <td>11.20</td>\n",
       "    </tr>\n",
       "    <tr>\n",
       "      <th>921</th>\n",
       "      <td>530432.jpg</td>\n",
       "      <td>2604870</td>\n",
       "      <td>A modern and luxurious 2 bedroom apartment clo...</td>\n",
       "      <td>1.0</td>\n",
       "      <td>f</td>\n",
       "      <td>Tower Hamlets</td>\n",
       "      <td>51.52312</td>\n",
       "      <td>-0.01305</td>\n",
       "      <td>t</td>\n",
       "      <td>apartment</td>\n",
       "      <td>...</td>\n",
       "      <td>0</td>\n",
       "      <td>0</td>\n",
       "      <td>0</td>\n",
       "      <td>0</td>\n",
       "      <td>1</td>\n",
       "      <td>0</td>\n",
       "      <td>0</td>\n",
       "      <td>85.0</td>\n",
       "      <td>15.0</td>\n",
       "      <td>48.18</td>\n",
       "    </tr>\n",
       "    <tr>\n",
       "      <th>350</th>\n",
       "      <td>315658.jpg</td>\n",
       "      <td>1620906</td>\n",
       "      <td>A comfortable double room in an apartment bloc...</td>\n",
       "      <td>2.0</td>\n",
       "      <td>t</td>\n",
       "      <td>Lambeth</td>\n",
       "      <td>51.48366</td>\n",
       "      <td>-0.11658</td>\n",
       "      <td>t</td>\n",
       "      <td>apartment</td>\n",
       "      <td>...</td>\n",
       "      <td>0</td>\n",
       "      <td>0</td>\n",
       "      <td>0</td>\n",
       "      <td>0</td>\n",
       "      <td>1</td>\n",
       "      <td>0</td>\n",
       "      <td>0</td>\n",
       "      <td>0.0</td>\n",
       "      <td>0.0</td>\n",
       "      <td>219.42</td>\n",
       "    </tr>\n",
       "    <tr>\n",
       "      <th>598</th>\n",
       "      <td>412652.jpg</td>\n",
       "      <td>1199826</td>\n",
       "      <td>Great room, great central London location, ver...</td>\n",
       "      <td>1.0</td>\n",
       "      <td>t</td>\n",
       "      <td>Tower Hamlets</td>\n",
       "      <td>51.52334</td>\n",
       "      <td>-0.05232</td>\n",
       "      <td>t</td>\n",
       "      <td>apartment</td>\n",
       "      <td>...</td>\n",
       "      <td>0</td>\n",
       "      <td>0</td>\n",
       "      <td>0</td>\n",
       "      <td>0</td>\n",
       "      <td>1</td>\n",
       "      <td>0</td>\n",
       "      <td>0</td>\n",
       "      <td>0.0</td>\n",
       "      <td>10.0</td>\n",
       "      <td>200.08</td>\n",
       "    </tr>\n",
       "  </tbody>\n",
       "</table>\n",
       "<p>5 rows × 223 columns</p>\n",
       "</div>"
      ],
      "text/plain": [
       "             id  host_id                                        description  \\\n",
       "111   97583.jpg   516216  Very peaceful Edwardian house with beautiful f...   \n",
       "110   97506.jpg   497537  Hi, we want our guests to have a great time wh...   \n",
       "921  530432.jpg  2604870  A modern and luxurious 2 bedroom apartment clo...   \n",
       "350  315658.jpg  1620906  A comfortable double room in an apartment bloc...   \n",
       "598  412652.jpg  1199826  Great room, great central London location, ver...   \n",
       "\n",
       "     host_listings_count host_identity_verified neighbourhood_cleansed  \\\n",
       "111                  3.0                      t               Haringey   \n",
       "110                  1.0                      t                Lambeth   \n",
       "921                  1.0                      f          Tower Hamlets   \n",
       "350                  2.0                      t                Lambeth   \n",
       "598                  1.0                      t          Tower Hamlets   \n",
       "\n",
       "     latitude  longitude is_location_exact property_type  ...  \\\n",
       "111  51.60796   -0.12551                 f         house  ...   \n",
       "110  51.42875   -0.12056                 t     apartment  ...   \n",
       "921  51.52312   -0.01305                 t     apartment  ...   \n",
       "350  51.48366   -0.11658                 t     apartment  ...   \n",
       "598  51.52334   -0.05232                 t     apartment  ...   \n",
       "\n",
       "    amenity_wide_entrance  amenity_wide_entrance_for_guests  \\\n",
       "111                     0                                 0   \n",
       "110                     0                                 0   \n",
       "921                     0                                 0   \n",
       "350                     0                                 0   \n",
       "598                     0                                 0   \n",
       "\n",
       "     amenity_wide_entryway  amenity_wide_hallways  amenity_wifi  \\\n",
       "111                      0                      0             1   \n",
       "110                      0                      0             1   \n",
       "921                      0                      0             1   \n",
       "350                      0                      0             1   \n",
       "598                      0                      0             1   \n",
       "\n",
       "     amenity_window_guards  amenity_wine_cooler security_deposit extra_people  \\\n",
       "111                      0                    0            100.0          0.0   \n",
       "110                      0                    0              0.0         20.0   \n",
       "921                      0                    0             85.0         15.0   \n",
       "350                      0                    0              0.0          0.0   \n",
       "598                      0                    0              0.0         10.0   \n",
       "\n",
       "      yield  \n",
       "111   57.82  \n",
       "110   11.20  \n",
       "921   48.18  \n",
       "350  219.42  \n",
       "598  200.08  \n",
       "\n",
       "[5 rows x 223 columns]"
      ]
     },
     "execution_count": 2,
     "metadata": {},
     "output_type": "execute_result"
    }
   ],
   "source": [
    "# in my case, I place the data in a folder I call tmp_data, let's see how it looks\n",
    "airbnb_data = pd.read_csv(\"../tmp_data/airbnb/airbnb_sample.csv\")\n",
    "airbnb_data.sample(5)"
   ]
  },
  {
   "cell_type": "code",
   "execution_count": 3,
   "id": "cd48be3d",
   "metadata": {},
   "outputs": [
    {
     "data": {
      "image/jpeg": "[encoded data removed]",
      "text/plain": [
       "<IPython.core.display.Image object>"
      ]
     },
     "metadata": {},
     "output_type": "display_data"
    }
   ],
   "source": [
    "# for example\n",
    "from IPython.display import Image\n",
    "\n",
    "pil_img = Image(filename=\"../tmp_data/airbnb/property_picture/272908.jpg\")\n",
    "display(pil_img)"
   ]
  },
  {
   "cell_type": "code",
   "execution_count": 4,
   "id": "ee08f9a2",
   "metadata": {},
   "outputs": [
    {
     "data": {
      "text/plain": [
       "[\"Bright, sunny beautiful room that will give you the perfect base to explore all of London. Come and explore one of London's best neighbourhoods - Herne Hill! As mentioned in (Website hidden by Airbnb)   (Website hidden by Airbnb)  WiFi availability with a fully stocked and clean uplifting home. Lovely sunny, airy and big double bedroom on a leafy south-London street.    Note: This room comes with a reserved Off-Street parking spot! The room is on the first floor and boasts an enormous Super King bed, gorgeous wooden floors, tall ceilings and large windows which let in the sunshine almost all day. (Yoga May or meditation cushion available on request) The flat is bright and airy and big! So lots of space for all.  Location wise you are only 10 minutes walk to either Herne Hill or West Dulwich stations, both of which will take you to Victoria and the city within minutes. You can also hop on a bus right outside the flat that will take you to Brixton tube station within 8 minutes where you \"]"
      ]
     },
     "execution_count": 4,
     "metadata": {},
     "output_type": "execute_result"
    }
   ],
   "source": [
    "# And the description for the property that that picture belongs to is:\n",
    "airbnb_data[airbnb_data.id == \"272908.jpg\"].description.tolist()"
   ]
  },
  {
   "cell_type": "markdown",
   "id": "2e78d3b6",
   "metadata": {},
   "source": [
    "Ok, so we have tabular data where one column is `description` and another `id`, points towards the images stored in disk. Now, remember the following, because this will appear a few times in the notebook: our \"reference dataset\" is the tabular data. \n",
    "\n",
    "Therefore, since I want to illustrate a \"semi-realistic\" case, if we need to split the data into training, validation and test datasets, these datasets needs to be separetely stored in disk. In my case I have done this and in the `tmp_data/airbnb` dir I have the following:\n",
    "\n",
    "```bash\n",
    "../tmp_data/airbnb\n",
    "├── airbnb_sample.csv\n",
    "├── airbnb_sample_eval.csv\n",
    "├── airbnb_sample_test.csv\n",
    "├── airbnb_sample_train.csv\n",
    "└── property_picture\n",
    "```\n",
    "\n",
    "Where `airbnb_sample.csv` is the full sample (1001 rows) and the `train`, `eval` and `test` set is the corresponding splits. In a realistic example, the full sample would be the '_gigantic_' dataset and the rest the corresponding splits. One has to do this 'offline', prior to start the coding. \n",
    "\n",
    "Also, one thing that one needs to know is the number of total observations/rows, as well as the splits. In our case the train size is 800, and the eval and test sizes are 100 and 101 respectively. \n",
    "\n",
    "With all that info, let's star"
   ]
  },
  {
   "cell_type": "markdown",
   "id": "cb1d276a",
   "metadata": {},
   "source": [
    "## Setting variables and constants"
   ]
  },
  {
   "cell_type": "code",
   "execution_count": 5,
   "id": "36bd0e06",
   "metadata": {},
   "outputs": [],
   "source": [
    "# path to the tabular data and the splits\n",
    "data_path = \"../tmp_data/airbnb/\"\n",
    "train_fname = \"airbnb_sample_train.csv\"\n",
    "eval_fname = \"airbnb_sample_eval.csv\"\n",
    "test_fname = \"airbnb_sample_test.csv\"\n",
    "\n",
    "# split sizes\n",
    "train_size = 800\n",
    "eval_size = 100\n",
    "test_size = 101\n",
    "\n",
    "# number of chunks for the Chunk Preprocessors\n",
    "chunksize = 100\n",
    "n_chunks = int(np.ceil(train_size / chunksize))\n",
    "\n",
    "# path to the image dataset and name of the image col\n",
    "img_path = \"../tmp_data/airbnb/property_picture/\"\n",
    "img_col = \"id\"\n",
    "\n",
    "# name of the text col\n",
    "text_col = \"description\"\n",
    "\n",
    "# mane of the target\n",
    "target_col = \"yield\"\n",
    "\n",
    "# definition of the categorical and continuous cols for the TabPreprocessor\n",
    "cat_embed_cols = [\n",
    "    \"host_listings_count\",\n",
    "    \"neighbourhood_cleansed\",\n",
    "    \"is_location_exact\",\n",
    "    \"property_type\",\n",
    "    \"room_type\",\n",
    "    \"accommodates\",\n",
    "    \"bathrooms\",\n",
    "    \"bedrooms\",\n",
    "    \"beds\",\n",
    "    \"guests_included\",\n",
    "    \"minimum_nights\",\n",
    "    \"instant_bookable\",\n",
    "    \"cancellation_policy\",\n",
    "    \"has_house_rules\",\n",
    "    \"host_gender\",\n",
    "    \"accommodates_catg\",\n",
    "    \"guests_included_catg\",\n",
    "    \"minimum_nights_catg\",\n",
    "    \"host_listings_count_catg\",\n",
    "    \"bathrooms_catg\",\n",
    "    \"bedrooms_catg\",\n",
    "    \"beds_catg\",\n",
    "    \"security_deposit\",\n",
    "    \"extra_people\",\n",
    "]\n",
    "cont_cols = [\"latitude\", \"longitude\"]"
   ]
  },
  {
   "cell_type": "markdown",
   "id": "3ae90a5d",
   "metadata": {},
   "source": [
    "## Step 1: the preprocessors\n",
    "\n",
    "### Scenario 1: only the images do not fit in disk\n",
    "\n",
    "In this case we can prepare the data in the '_standard_' way"
   ]
  },
  {
   "cell_type": "code",
   "execution_count": 6,
   "id": "d0579edf",
   "metadata": {},
   "outputs": [],
   "source": [
    "tab_preprocessor = TabPreprocessor(\n",
    "    embed_cols=cat_embed_cols,\n",
    "    continuous_cols=cont_cols,\n",
    "    default_embed_dim=8,\n",
    "    verbose=0,\n",
    ")\n",
    "\n",
    "text_preprocessor = TextPreprocessor(\n",
    "    text_col=text_col,\n",
    "    n_cpus=1,\n",
    ")\n",
    "\n",
    "img_preprocessor = ImagePreprocessor(\n",
    "    img_col=img_col,\n",
    "    img_path=img_path,\n",
    ")"
   ]
  },
  {
   "cell_type": "code",
   "execution_count": 7,
   "id": "b3f56f59",
   "metadata": {},
   "outputs": [
    {
     "name": "stdout",
     "output_type": "stream",
     "text": [
      "The vocabulary contains 2192 tokens\n"
     ]
    },
    {
     "data": {
      "text/plain": [
       "ImagePreprocessor(img_col=id, img_path=../tmp_data/airbnb/property_picture/, width=224, height=224, verbose=1)"
      ]
     },
     "execution_count": 7,
     "metadata": {},
     "output_type": "execute_result"
    }
   ],
   "source": [
    "tab_preprocessor.fit(airbnb_data)\n",
    "text_preprocessor.fit(airbnb_data)\n",
    "img_preprocessor.fit(airbnb_data)"
   ]
  },
  {
   "cell_type": "markdown",
   "id": "5a871266",
   "metadata": {},
   "source": [
    "### Scenario 2: the tabular data is also huge \n",
    "\n",
    "Then we need to prepare it in chunks. Note that, unfortunately, the tabular and text preprocessors need to see the whole dataset once. This is because to process tabular or text data we need to encode values. For those encodings to be consistent they need to have seen the whole dataset. Alternatively, one could code a solution with some streaming encoder for both datasets. However, such implementation is not trivial for this library (and in general). I also don't think that having to see the whole data once is such a big limitation. Let's see how is done.\n",
    "\n",
    "Note that I have not mentioned the image dataset. This is because the processing of the image dataset does not require any form of encoding and in consequence can be done 'on the fly'. Therefore, no `ChunkImgPreprocessor` processor is needed."
   ]
  },
  {
   "cell_type": "code",
   "execution_count": 8,
   "id": "585056f9",
   "metadata": {},
   "outputs": [
    {
     "name": "stdout",
     "output_type": "stream",
     "text": [
      "chunk in loop: 1\n",
      "chunk in loop: 2\n",
      "chunk in loop: 3\n",
      "chunk in loop: 4\n",
      "chunk in loop: 5\n",
      "chunk in loop: 6\n",
      "chunk in loop: 7\n",
      "chunk in loop: 8\n"
     ]
    }
   ],
   "source": [
    "chunk_tab_preprocessor = ChunkTabPreprocessor(\n",
    "    embed_cols=cat_embed_cols,\n",
    "    continuous_cols=cont_cols,\n",
    "    n_chunks=n_chunks,\n",
    "    default_embed_dim=8,\n",
    "    verbose=0,\n",
    ")\n",
    "\n",
    "chunk_text_preprocessor = ChunkTextPreprocessor(\n",
    "    n_chunks=n_chunks,\n",
    "    text_col=text_col,\n",
    "    n_cpus=1,\n",
    "    verbose=0,\n",
    ")\n",
    "\n",
    "for i, chunk in enumerate(\n",
    "    pd.read_csv(\"/\".join([data_path, train_fname]), chunksize=chunksize)\n",
    "):\n",
    "    print(f\"chunk in loop: {i + 1}\")\n",
    "    chunk_tab_preprocessor.fit(chunk)\n",
    "    chunk_text_preprocessor.fit(chunk)"
   ]
  },
  {
   "cell_type": "markdown",
   "id": "5e8e0563",
   "metadata": {},
   "source": [
    "## Step 2: the `[...]FromFolder` classes\n",
    "\n",
    "Once we have the preprocessors, we need to instantiate the classes that will enable us to load the data from their respective folders. From now on I am going to proceed with the `chunk_tab_preprocessor`, `chunk_text_preprocessor` and `img_preprocessor`, but the code would be identical if instead of the first two preprocessors we decided to use the `tab_preprocessor` and `text_preprocessor`.\n",
    "\n",
    "Once more, our reference datasets are the tabular datasets, which we have splitted in train, eval and test prior to start the coding. Therefore, we will eventually need a loader for each split"
   ]
  },
  {
   "cell_type": "code",
   "execution_count": 9,
   "id": "0abc2c3f",
   "metadata": {},
   "outputs": [],
   "source": [
    "train_tab_folder = TabFromFolder(\n",
    "    fname=train_fname,\n",
    "    directory=data_path,\n",
    "    target_col=target_col,\n",
    "    preprocessor=tab_preprocessor,\n",
    "    text_col=text_col,\n",
    "    img_col=img_col,\n",
    ")\n",
    "\n",
    "# Note how we can use the `train_tab_folder` as reference so we don't have to\n",
    "# define all parameters again\n",
    "eval_tab_folder = TabFromFolder(fname=eval_fname, reference=train_tab_folder)\n",
    "\n",
    "# Note that for the test set we can ignore the target as no metric will be\n",
    "# computed by the `predict` method\n",
    "test_tab_folder = TabFromFolder(\n",
    "    fname=test_fname, reference=train_tab_folder, ignore_target=True\n",
    ")"
   ]
  },
  {
   "cell_type": "code",
   "execution_count": 10,
   "id": "50490084",
   "metadata": {},
   "outputs": [],
   "source": [
    "# for the text and image datasets we do not need to specify eval or test loaders\n",
    "text_folder = TextFromFolder(preprocessor=text_preprocessor)\n",
    "img_folder = ImageFromFolder(preprocessor=img_preprocessor)"
   ]
  },
  {
   "cell_type": "markdown",
   "id": "994c641a",
   "metadata": {},
   "source": [
    "## Step 3: pytorch datasets and dataloaders\n",
    "\n",
    "From here in advance, is all very 'standard' if you are familiar with pytorch. One needs to define a class that inherits from the `Dataset` class in pytorch. Then this will be passed to a `DataLoader` class and we are ready to train. Our `Dataset` child class is `WideDeepDatasetFromFolder`. This class will use the tabular dataset and the corresponding text and image columns to load the adequate data in the batches\n",
    "\n",
    "Let's do it"
   ]
  },
  {
   "cell_type": "code",
   "execution_count": 11,
   "id": "e1363873",
   "metadata": {},
   "outputs": [],
   "source": [
    "train_dataset_folder = WideDeepDatasetFromFolder(\n",
    "    n_samples=train_size,\n",
    "    tab_from_folder=train_tab_folder,\n",
    "    text_from_folder=text_folder,\n",
    "    img_from_folder=img_folder,\n",
    ")\n",
    "\n",
    "# Note that the eval and test loaders only need their corresponding\n",
    "# `TabFromFolder` classes. The rest of the parameters can be defined\n",
    "# via a `reference` `TabFromFolder` class\n",
    "eval_dataset_folder = WideDeepDatasetFromFolder(\n",
    "    n_samples=eval_size,\n",
    "    tab_from_folder=eval_tab_folder,\n",
    "    reference=train_dataset_folder,\n",
    ")\n",
    "\n",
    "test_dataset_folder = WideDeepDatasetFromFolder(\n",
    "    n_samples=test_size,\n",
    "    tab_from_folder=test_tab_folder,\n",
    "    reference=train_dataset_folder,\n",
    ")"
   ]
  },
  {
   "cell_type": "code",
   "execution_count": 12,
   "id": "34ffda86",
   "metadata": {},
   "outputs": [],
   "source": [
    "train_loader = DataLoader(train_dataset_folder, batch_size=16, num_workers=1)\n",
    "eval_loader = DataLoader(eval_dataset_folder, batch_size=16, num_workers=1)\n",
    "test_loader = DataLoader(test_dataset_folder, batch_size=16, num_workers=1)"
   ]
  },
  {
   "cell_type": "markdown",
   "id": "e352a39a",
   "metadata": {},
   "source": [
    "And from here on is business as usual: \n",
    "\n",
    "## Step 4: define the model "
   ]
  },
  {
   "cell_type": "code",
   "execution_count": 13,
   "id": "0b330ffa",
   "metadata": {
    "scrolled": false
   },
   "outputs": [
    {
     "data": {
      "text/plain": [
       "WideDeep(\n",
       "  (deeptabular): Sequential(\n",
       "    (0): TabMlp(\n",
       "      (cat_and_cont_embed): DiffSizeCatAndContEmbeddings(\n",
       "        (cat_embed): DiffSizeCatEmbeddings(\n",
       "          (embed_layers): ModuleDict(\n",
       "            (emb_layer_host_listings_count): Embedding(28, 10, padding_idx=0)\n",
       "            (emb_layer_neighbourhood_cleansed): Embedding(33, 11, padding_idx=0)\n",
       "            (emb_layer_is_location_exact): Embedding(3, 2, padding_idx=0)\n",
       "            (emb_layer_property_type): Embedding(4, 3, padding_idx=0)\n",
       "            (emb_layer_room_type): Embedding(4, 3, padding_idx=0)\n",
       "            (emb_layer_accommodates): Embedding(14, 7, padding_idx=0)\n",
       "            (emb_layer_bathrooms): Embedding(11, 6, padding_idx=0)\n",
       "            (emb_layer_bedrooms): Embedding(7, 4, padding_idx=0)\n",
       "            (emb_layer_beds): Embedding(11, 6, padding_idx=0)\n",
       "            (emb_layer_guests_included): Embedding(11, 6, padding_idx=0)\n",
       "            (emb_layer_minimum_nights): Embedding(25, 9, padding_idx=0)\n",
       "            (emb_layer_instant_bookable): Embedding(3, 2, padding_idx=0)\n",
       "            (emb_layer_cancellation_policy): Embedding(6, 4, padding_idx=0)\n",
       "            (emb_layer_has_house_rules): Embedding(3, 2, padding_idx=0)\n",
       "            (emb_layer_host_gender): Embedding(4, 3, padding_idx=0)\n",
       "            (emb_layer_accommodates_catg): Embedding(4, 3, padding_idx=0)\n",
       "            (emb_layer_guests_included_catg): Embedding(4, 3, padding_idx=0)\n",
       "            (emb_layer_minimum_nights_catg): Embedding(4, 3, padding_idx=0)\n",
       "            (emb_layer_host_listings_count_catg): Embedding(5, 3, padding_idx=0)\n",
       "            (emb_layer_bathrooms_catg): Embedding(4, 3, padding_idx=0)\n",
       "            (emb_layer_bedrooms_catg): Embedding(5, 3, padding_idx=0)\n",
       "            (emb_layer_beds_catg): Embedding(5, 3, padding_idx=0)\n",
       "            (emb_layer_security_deposit): Embedding(53, 15, padding_idx=0)\n",
       "            (emb_layer_extra_people): Embedding(39, 12, padding_idx=0)\n",
       "          )\n",
       "          (embedding_dropout): Dropout(p=0.1, inplace=False)\n",
       "        )\n",
       "        (cont_norm): BatchNorm1d(2, eps=1e-05, momentum=0.1, affine=True, track_running_stats=True)\n",
       "      )\n",
       "      (encoder): MLP(\n",
       "        (mlp): Sequential(\n",
       "          (dense_layer_0): Sequential(\n",
       "            (0): Dropout(p=0.1, inplace=False)\n",
       "            (1): Linear(in_features=128, out_features=32, bias=True)\n",
       "            (2): ReLU(inplace=True)\n",
       "          )\n",
       "          (dense_layer_1): Sequential(\n",
       "            (0): Dropout(p=0.1, inplace=False)\n",
       "            (1): Linear(in_features=32, out_features=16, bias=True)\n",
       "            (2): ReLU(inplace=True)\n",
       "          )\n",
       "        )\n",
       "      )\n",
       "    )\n",
       "    (1): Linear(in_features=16, out_features=1, bias=True)\n",
       "  )\n",
       "  (deeptext): Sequential(\n",
       "    (0): BasicRNN(\n",
       "      (word_embed): Embedding(2192, 32, padding_idx=1)\n",
       "      (rnn): LSTM(32, 64, num_layers=2, batch_first=True, dropout=0.1)\n",
       "      (rnn_mlp): Identity()\n",
       "    )\n",
       "    (1): Linear(in_features=64, out_features=1, bias=True)\n",
       "  )\n",
       "  (deepimage): Sequential(\n",
       "    (0): Vision(\n",
       "      (features): Sequential(\n",
       "        (conv_layer_0): Sequential(\n",
       "          (0): Conv2d(3, 64, kernel_size=(7, 7), stride=(2, 2), padding=(3, 3), bias=False)\n",
       "          (1): BatchNorm2d(64, eps=1e-05, momentum=0.01, affine=True, track_running_stats=True)\n",
       "          (2): LeakyReLU(negative_slope=0.1, inplace=True)\n",
       "          (maxpool): MaxPool2d(kernel_size=2, stride=2, padding=0, dilation=1, ceil_mode=False)\n",
       "        )\n",
       "        (conv_layer_1): Sequential(\n",
       "          (0): Conv2d(64, 128, kernel_size=(3, 3), stride=(1, 1), padding=(1, 1), bias=False)\n",
       "          (1): BatchNorm2d(128, eps=1e-05, momentum=0.01, affine=True, track_running_stats=True)\n",
       "          (2): LeakyReLU(negative_slope=0.1, inplace=True)\n",
       "        )\n",
       "        (conv_layer_2): Sequential(\n",
       "          (0): Conv2d(128, 256, kernel_size=(3, 3), stride=(1, 1), padding=(1, 1), bias=False)\n",
       "          (1): BatchNorm2d(256, eps=1e-05, momentum=0.01, affine=True, track_running_stats=True)\n",
       "          (2): LeakyReLU(negative_slope=0.1, inplace=True)\n",
       "        )\n",
       "        (conv_layer_3): Sequential(\n",
       "          (0): Conv2d(256, 512, kernel_size=(3, 3), stride=(1, 1), padding=(1, 1), bias=False)\n",
       "          (1): BatchNorm2d(512, eps=1e-05, momentum=0.01, affine=True, track_running_stats=True)\n",
       "          (2): LeakyReLU(negative_slope=0.1, inplace=True)\n",
       "          (adaptiveavgpool): AdaptiveAvgPool2d(output_size=(1, 1))\n",
       "        )\n",
       "      )\n",
       "    )\n",
       "    (1): Linear(in_features=512, out_features=1, bias=True)\n",
       "  )\n",
       ")"
      ]
     },
     "execution_count": 13,
     "metadata": {},
     "output_type": "execute_result"
    }
   ],
   "source": [
    "# for example\n",
    "basic_rnn = BasicRNN(\n",
    "    vocab_size=len(text_preprocessor.vocab.itos),\n",
    "    embed_dim=32,\n",
    "    hidden_dim=64,\n",
    "    n_layers=2,\n",
    ")\n",
    "\n",
    "deepimage = Vision()\n",
    "\n",
    "deepdense = TabMlp(\n",
    "    mlp_hidden_dims=[32, 16],\n",
    "    column_idx=tab_preprocessor.column_idx,\n",
    "    cat_embed_input=tab_preprocessor.cat_embed_input,\n",
    "    continuous_cols=cont_cols,\n",
    ")\n",
    "\n",
    "model = WideDeep(\n",
    "    deeptabular=deepdense,\n",
    "    deeptext=basic_rnn,\n",
    "    deepimage=deepimage,\n",
    ")\n",
    "\n",
    "model"
   ]
  },
  {
   "cell_type": "markdown",
   "id": "0b57c52c",
   "metadata": {},
   "source": [
    "## Step 5: fit and predict"
   ]
  },
  {
   "cell_type": "code",
   "execution_count": 14,
   "id": "57d6021b",
   "metadata": {},
   "outputs": [
    {
     "name": "stderr",
     "output_type": "stream",
     "text": [
      "epoch 1: 100%|████████████████████████████████████████████████████████████████████████████████| 50/50 [03:13<00:00,  3.86s/it, loss=1.69e+4]\n",
      "valid: 100%|████████████████████████████████████████████████████████████████████████████████████| 7/7 [00:22<00:00,  3.19s/it, loss=6.61e+3]\n"
     ]
    }
   ],
   "source": [
    "trainer = TrainerFromFolder(\n",
    "    model,\n",
    "    objective=\"regression\",\n",
    ")\n",
    "\n",
    "trainer.fit(\n",
    "    train_loader=train_loader,\n",
    "    eval_loader=eval_loader,\n",
    ")"
   ]
  },
  {
   "cell_type": "code",
   "execution_count": 15,
   "id": "0a63c8df",
   "metadata": {},
   "outputs": [
    {
     "name": "stderr",
     "output_type": "stream",
     "text": [
      "predict: 100%|████████████████████████████████████████████████████████████████████████████████████████████████| 7/7 [00:23<00:00,  3.30s/it]\n"
     ]
    }
   ],
   "source": [
    "preds = trainer.predict(test_loader=test_loader)"
   ]
  },
  {
   "cell_type": "markdown",
   "id": "c91c2818",
   "metadata": {},
   "source": [
    "Note that in the case of predict you could also choose to do this"
   ]
  },
  {
   "cell_type": "code",
   "execution_count": 16,
   "id": "bf8ac604",
   "metadata": {},
   "outputs": [],
   "source": [
    "df_test = pd.read_csv(\"/\".join([data_path, test_fname]))"
   ]
  },
  {
   "cell_type": "code",
   "execution_count": 17,
   "id": "c27de38f",
   "metadata": {},
   "outputs": [
    {
     "name": "stdout",
     "output_type": "stream",
     "text": [
      "Reading Images from ../tmp_data/airbnb/property_picture/\n",
      "Resizing\n"
     ]
    },
    {
     "name": "stderr",
     "output_type": "stream",
     "text": [
      "100%|████████████████████████████████████████████████████████████████████████████████████████████████████| 101/101 [00:00<00:00, 587.63it/s]"
     ]
    },
    {
     "name": "stdout",
     "output_type": "stream",
     "text": [
      "Computing normalisation metrics\n"
     ]
    },
    {
     "name": "stderr",
     "output_type": "stream",
     "text": [
      "\n"
     ]
    }
   ],
   "source": [
    "# if the images for the test set fit in memory\n",
    "X_tab_test = chunk_tab_preprocessor.transform(df_test)\n",
    "X_text_test = chunk_text_preprocessor.transform(df_test)\n",
    "X_img_test = img_preprocessor.transform(df_test)"
   ]
  },
  {
   "cell_type": "code",
   "execution_count": 18,
   "id": "5a4e98ef",
   "metadata": {},
   "outputs": [
    {
     "name": "stderr",
     "output_type": "stream",
     "text": [
      "predict: 100%|████████████████████████████████████████████████████████████████████████████████████████████████| 4/4 [00:03<00:00,  1.18it/s]\n"
     ]
    }
   ],
   "source": [
    "preds = trainer.predict(\n",
    "    X_tab=X_tab_test, X_text=X_text_test, X_img=X_img_test, batch_size=32\n",
    ")"
   ]
  }
 ],
 "metadata": {
  "kernelspec": {
   "display_name": "Python 3 (ipykernel)",
   "language": "python",
   "name": "python3"
  },
  "language_info": {
   "codemirror_mode": {
    "name": "ipython",
    "version": 3
   },
   "file_extension": ".py",
   "mimetype": "text/x-python",
   "name": "python",
   "nbconvert_exporter": "python",
   "pygments_lexer": "ipython3",
   "version": "3.9.15"
  }
 },
 "nbformat": 4,
 "nbformat_minor": 5
}
